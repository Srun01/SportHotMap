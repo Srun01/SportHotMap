{
 "cells": [
  {
   "cell_type": "code",
   "execution_count": 1,
   "metadata": {},
   "outputs": [],
   "source": [
    "import os\n",
    "import fitparse\n",
    "import pytz\n",
    "import pandas as pd\n",
    "import numpy as np\n",
    "import matplotlib.pyplot as plt"
   ]
  },
  {
   "cell_type": "code",
   "execution_count": 2,
   "metadata": {},
   "outputs": [],
   "source": [
    "# For fast Speed\n",
    "allowed_fields = ['timestamp', 'position_lat', 'position_long', 'altitude']\n",
    "required_fields = ['timestamp', 'position_lat', 'position_long', 'altitude']\n",
    "\n",
    "UTC = pytz.UTC\n",
    "CST = pytz.timezone('US/Central')\n",
    "\n",
    "pd.set_option('display.max_columns', None)\n",
    "pd.set_option('display.max_rows', None)\n",
    "pd.set_option('max_colwidth', 100)"
   ]
  },
  {
   "cell_type": "code",
   "execution_count": 3,
   "metadata": {},
   "outputs": [],
   "source": [
    "file = '/Users/chord/Downloads/fitComputer/2018-05-29-08-17-01.fit'"
   ]
  },
  {
   "cell_type": "code",
   "execution_count": 4,
   "metadata": {},
   "outputs": [],
   "source": [
    "fitfile = fitparse.FitFile(file, data_processor=fitparse.StandardUnitsDataProcessor())"
   ]
  },
  {
   "cell_type": "code",
   "execution_count": 5,
   "metadata": {},
   "outputs": [
    {
     "data": {
      "image/png": "[encoded data removed]",
      "text/plain": [
       "<Figure size 432x288 with 1 Axes>"
      ]
     },
     "metadata": {
      "needs_background": "light"
     },
     "output_type": "display_data"
    }
   ],
   "source": [
    "        messages = fitfile.messages\n",
    "        data = []\n",
    "        for m in messages:\n",
    "            skip = False\n",
    "            if not hasattr(m, 'fields'):\n",
    "                continue\n",
    "            fields = m.fields\n",
    "            # check for important data types\n",
    "            mdata = {}\n",
    "            for field in fields:\n",
    "                if field.name in allowed_fields:\n",
    "                    if field.name == 'timestamp':\n",
    "                        mdata[field.name] = UTC.localize(field.value).astimezone(CST)\n",
    "                    else:\n",
    "                        mdata[field.name] = field.value\n",
    "            for rf in required_fields:\n",
    "                if rf not in mdata:\n",
    "                    skip = True\n",
    "            if not skip:\n",
    "                data.append(mdata)\n",
    "\n",
    "        try:\n",
    "            lat_data = pd.DataFrame(data)[\"position_lat\"].astype(str).replace(\"None\", np.nan).astype(float)\n",
    "            long_data = pd.DataFrame(data)[\"position_long\"].astype(str).replace(\"None\", np.nan).astype(float)\n",
    "            plt.plot(long_data, lat_data, 'b', alpha=0.2)\n",
    "        except KeyError:\n",
    "            print(\"error\")"
   ]
  },
  {
   "cell_type": "code",
   "execution_count": 6,
   "metadata": {},
   "outputs": [],
   "source": [
    "coords = pd.DataFrame(data)"
   ]
  },
  {
   "cell_type": "code",
   "execution_count": 7,
   "metadata": {},
   "outputs": [],
   "source": [
    "coords_shift = coords.shift()"
   ]
  },
  {
   "cell_type": "code",
   "execution_count": 8,
   "metadata": {},
   "outputs": [],
   "source": [
    "\n",
    "from math import radians, cos, sin, asin, sqrt\n",
    " \n",
    "def haversine(lon1, lat1, lon2, lat2): # 经度1，纬度1，经度2，纬度2 （十进制度数）\n",
    "    \"\"\"\n",
    "    Calculate the great circle distance between two points \n",
    "    on the earth (specified in decimal degrees)\n",
    "    \"\"\"\n",
    "    # 将十进制度数转化为弧度\n",
    "    lon1, lat1, lon2, lat2 = map(radians, [lon1, lat1, lon2, lat2])\n",
    " \n",
    "    # haversine公式\n",
    "    dlon = lon2 - lon1 \n",
    "    dlat = lat2 - lat1 \n",
    "    a = sin(dlat/2)**2 + cos(lat1) * cos(lat2) * sin(dlon/2)**2\n",
    "    c = 2 * asin(sqrt(a)) \n",
    "    r = 6371 # 地球平均半径，单位为公里\n",
    "    return c * r * 1000\n"
   ]
  },
  {
   "cell_type": "code",
   "execution_count": 9,
   "metadata": {
    "scrolled": true
   },
   "outputs": [],
   "source": [
    "combine_coords = pd.DataFrame({'lon1':coords['position_long'],'lat1':coords['position_lat'],'lon2':coords_shift['position_long'],'lat2':coords_shift['position_lat']})"
   ]
  },
  {
   "cell_type": "code",
   "execution_count": 10,
   "metadata": {},
   "outputs": [],
   "source": [
    "combine_coords['distance'] = combine_coords.apply(lambda x: haversine(x[0],x[1],x[2],x[3]),axis=1)"
   ]
  },
  {
   "cell_type": "code",
   "execution_count": 11,
   "metadata": {
    "scrolled": true
   },
   "outputs": [
    {
     "data": {
      "text/html": [
       "<div>\n",
       "<style scoped>\n",
       "    .dataframe tbody tr th:only-of-type {\n",
       "        vertical-align: middle;\n",
       "    }\n",
       "\n",
       "    .dataframe tbody tr th {\n",
       "        vertical-align: top;\n",
       "    }\n",
       "\n",
       "    .dataframe thead th {\n",
       "        text-align: right;\n",
       "    }\n",
       "</style>\n",
       "<table border=\"1\" class=\"dataframe\">\n",
       "  <thead>\n",
       "    <tr style=\"text-align: right;\">\n",
       "      <th></th>\n",
       "      <th>lon1</th>\n",
       "      <th>lat1</th>\n",
       "      <th>lon2</th>\n",
       "      <th>lat2</th>\n",
       "      <th>distance</th>\n",
       "    </tr>\n",
       "  </thead>\n",
       "  <tbody>\n",
       "    <tr>\n",
       "      <th>0</th>\n",
       "      <td>116.425882</td>\n",
       "      <td>39.939887</td>\n",
       "      <td>NaN</td>\n",
       "      <td>NaN</td>\n",
       "      <td>NaN</td>\n",
       "    </tr>\n",
       "    <tr>\n",
       "      <th>1</th>\n",
       "      <td>116.425928</td>\n",
       "      <td>39.939922</td>\n",
       "      <td>116.425882</td>\n",
       "      <td>39.939887</td>\n",
       "      <td>5.539068</td>\n",
       "    </tr>\n",
       "    <tr>\n",
       "      <th>2</th>\n",
       "      <td>116.425910</td>\n",
       "      <td>39.939904</td>\n",
       "      <td>116.425928</td>\n",
       "      <td>39.939922</td>\n",
       "      <td>2.480915</td>\n",
       "    </tr>\n",
       "    <tr>\n",
       "      <th>3</th>\n",
       "      <td>116.425887</td>\n",
       "      <td>39.939883</td>\n",
       "      <td>116.425910</td>\n",
       "      <td>39.939904</td>\n",
       "      <td>3.103705</td>\n",
       "    </tr>\n",
       "    <tr>\n",
       "      <th>4</th>\n",
       "      <td>116.425805</td>\n",
       "      <td>39.939827</td>\n",
       "      <td>116.425887</td>\n",
       "      <td>39.939883</td>\n",
       "      <td>9.344124</td>\n",
       "    </tr>\n",
       "  </tbody>\n",
       "</table>\n",
       "</div>"
      ],
      "text/plain": [
       "         lon1       lat1        lon2       lat2  distance\n",
       "0  116.425882  39.939887         NaN        NaN       NaN\n",
       "1  116.425928  39.939922  116.425882  39.939887  5.539068\n",
       "2  116.425910  39.939904  116.425928  39.939922  2.480915\n",
       "3  116.425887  39.939883  116.425910  39.939904  3.103705\n",
       "4  116.425805  39.939827  116.425887  39.939883  9.344124"
      ]
     },
     "execution_count": 11,
     "metadata": {},
     "output_type": "execute_result"
    }
   ],
   "source": [
    "combine_coords.head()"
   ]
  },
  {
   "cell_type": "code",
   "execution_count": 12,
   "metadata": {
    "scrolled": true
   },
   "outputs": [
    {
     "data": {
      "text/html": [
       "<div>\n",
       "<style scoped>\n",
       "    .dataframe tbody tr th:only-of-type {\n",
       "        vertical-align: middle;\n",
       "    }\n",
       "\n",
       "    .dataframe tbody tr th {\n",
       "        vertical-align: top;\n",
       "    }\n",
       "\n",
       "    .dataframe thead th {\n",
       "        text-align: right;\n",
       "    }\n",
       "</style>\n",
       "<table border=\"1\" class=\"dataframe\">\n",
       "  <thead>\n",
       "    <tr style=\"text-align: right;\">\n",
       "      <th></th>\n",
       "      <th>timestamp</th>\n",
       "      <th>position_lat</th>\n",
       "      <th>position_long</th>\n",
       "      <th>altitude</th>\n",
       "    </tr>\n",
       "  </thead>\n",
       "  <tbody>\n",
       "    <tr>\n",
       "      <th>2</th>\n",
       "      <td>2018-05-29 07:17:03-05:00</td>\n",
       "      <td>39.939904</td>\n",
       "      <td>116.425910</td>\n",
       "      <td>2684</td>\n",
       "    </tr>\n",
       "    <tr>\n",
       "      <th>8</th>\n",
       "      <td>2018-05-29 07:17:09-05:00</td>\n",
       "      <td>39.939767</td>\n",
       "      <td>116.425742</td>\n",
       "      <td>2688</td>\n",
       "    </tr>\n",
       "    <tr>\n",
       "      <th>9</th>\n",
       "      <td>2018-05-29 07:17:10-05:00</td>\n",
       "      <td>39.939762</td>\n",
       "      <td>116.425753</td>\n",
       "      <td>2688</td>\n",
       "    </tr>\n",
       "    <tr>\n",
       "      <th>11</th>\n",
       "      <td>2018-05-29 07:17:12-05:00</td>\n",
       "      <td>39.939790</td>\n",
       "      <td>116.425820</td>\n",
       "      <td>2688</td>\n",
       "    </tr>\n",
       "    <tr>\n",
       "      <th>13</th>\n",
       "      <td>2018-05-29 07:17:14-05:00</td>\n",
       "      <td>39.939802</td>\n",
       "      <td>116.425875</td>\n",
       "      <td>2687</td>\n",
       "    </tr>\n",
       "  </tbody>\n",
       "</table>\n",
       "</div>"
      ],
      "text/plain": [
       "                   timestamp  position_lat  position_long  altitude\n",
       "2  2018-05-29 07:17:03-05:00     39.939904     116.425910      2684\n",
       "8  2018-05-29 07:17:09-05:00     39.939767     116.425742      2688\n",
       "9  2018-05-29 07:17:10-05:00     39.939762     116.425753      2688\n",
       "11 2018-05-29 07:17:12-05:00     39.939790     116.425820      2688\n",
       "13 2018-05-29 07:17:14-05:00     39.939802     116.425875      2687"
      ]
     },
     "execution_count": 12,
     "metadata": {},
     "output_type": "execute_result"
    }
   ],
   "source": [
    "coords[combine_coords['distance'] < 3].head()"
   ]
  },
  {
   "cell_type": "code",
   "execution_count": 13,
   "metadata": {},
   "outputs": [
    {
     "data": {
      "text/html": [
       "<div>\n",
       "<style scoped>\n",
       "    .dataframe tbody tr th:only-of-type {\n",
       "        vertical-align: middle;\n",
       "    }\n",
       "\n",
       "    .dataframe tbody tr th {\n",
       "        vertical-align: top;\n",
       "    }\n",
       "\n",
       "    .dataframe thead th {\n",
       "        text-align: right;\n",
       "    }\n",
       "</style>\n",
       "<table border=\"1\" class=\"dataframe\">\n",
       "  <thead>\n",
       "    <tr style=\"text-align: right;\">\n",
       "      <th></th>\n",
       "      <th>timestamp</th>\n",
       "      <th>position_lat</th>\n",
       "      <th>position_long</th>\n",
       "      <th>altitude</th>\n",
       "    </tr>\n",
       "  </thead>\n",
       "  <tbody>\n",
       "    <tr>\n",
       "      <th>0</th>\n",
       "      <td>2018-05-29 07:17:03-05:00</td>\n",
       "      <td>39.939904</td>\n",
       "      <td>116.425910</td>\n",
       "      <td>2684</td>\n",
       "    </tr>\n",
       "    <tr>\n",
       "      <th>1</th>\n",
       "      <td>2018-05-29 07:17:09-05:00</td>\n",
       "      <td>39.939767</td>\n",
       "      <td>116.425742</td>\n",
       "      <td>2688</td>\n",
       "    </tr>\n",
       "    <tr>\n",
       "      <th>2</th>\n",
       "      <td>2018-05-29 07:17:10-05:00</td>\n",
       "      <td>39.939762</td>\n",
       "      <td>116.425753</td>\n",
       "      <td>2688</td>\n",
       "    </tr>\n",
       "    <tr>\n",
       "      <th>3</th>\n",
       "      <td>2018-05-29 07:17:12-05:00</td>\n",
       "      <td>39.939790</td>\n",
       "      <td>116.425820</td>\n",
       "      <td>2688</td>\n",
       "    </tr>\n",
       "    <tr>\n",
       "      <th>4</th>\n",
       "      <td>2018-05-29 07:17:14-05:00</td>\n",
       "      <td>39.939802</td>\n",
       "      <td>116.425875</td>\n",
       "      <td>2687</td>\n",
       "    </tr>\n",
       "  </tbody>\n",
       "</table>\n",
       "</div>"
      ],
      "text/plain": [
       "                  timestamp  position_lat  position_long  altitude\n",
       "0 2018-05-29 07:17:03-05:00     39.939904     116.425910      2684\n",
       "1 2018-05-29 07:17:09-05:00     39.939767     116.425742      2688\n",
       "2 2018-05-29 07:17:10-05:00     39.939762     116.425753      2688\n",
       "3 2018-05-29 07:17:12-05:00     39.939790     116.425820      2688\n",
       "4 2018-05-29 07:17:14-05:00     39.939802     116.425875      2687"
      ]
     },
     "execution_count": 13,
     "metadata": {},
     "output_type": "execute_result"
    }
   ],
   "source": [
    "coords[combine_coords['distance'] < 3].reset_index(drop=True).head()"
   ]
  }
 ],
 "metadata": {
  "kernelspec": {
   "display_name": "Python 3",
   "language": "python",
   "name": "python3"
  },
  "language_info": {
   "codemirror_mode": {
    "name": "ipython",
    "version": 3
   },
   "file_extension": ".py",
   "mimetype": "text/x-python",
   "name": "python",
   "nbconvert_exporter": "python",
   "pygments_lexer": "ipython3",
   "version": "3.7.4"
  }
 },
 "nbformat": 4,
 "nbformat_minor": 4
}
